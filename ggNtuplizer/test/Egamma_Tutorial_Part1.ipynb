{
 "cells": [
  {
   "cell_type": "markdown",
   "metadata": {},
   "source": [
    "To run this notebook on gridui\n",
    "\n",
    "```\n",
    "jupyter notebook --ip=* --port=8888\n",
    "```"
   ]
  },
  {
   "cell_type": "code",
   "execution_count": 81,
   "metadata": {
    "collapsed": false
   },
   "outputs": [],
   "source": [
    "#configure the environment\n",
    "import ROOT\n",
    "import os\n",
    "import math as M"
   ]
  },
  {
   "cell_type": "code",
   "execution_count": 82,
   "metadata": {
    "collapsed": false
   },
   "outputs": [],
   "source": [
    "#Some general functions\n",
    "etaAcceptance = {} # fiducial regions\n",
    "etaAcceptance['EB']= [ 0. , 1.4442 ] \n",
    "etaAcceptance['EE']= [ 1.566 , 2.5 ]\n",
    "\n",
    "# Function to check if the electron belongs to ECAL barrel (EB) or endcap (EE)\n",
    "# Check should be done on SuperCluster Eta not Track Eta \n",
    "def eleDet(iEle):\n",
    "    for det in ['EB','EE']:\n",
    "        if ( \n",
    "            abs(chain_in[sample].eleSCEta[iEle]) >= etaAcceptance[det][0]\n",
    "            and abs(chain_in[sample].eleSCEta[iEle]) < etaAcceptance[det][1]  \n",
    "            ):\n",
    "            return det\n",
    "    return 'OA' #out of acceptance\n",
    "\n",
    "# Function to check if a reconstructed electron is matched to a generator electron\n",
    "def has_mcEle_match(iEle):\n",
    "    ele_vec = ROOT.TLorentzVector()\n",
    "    # for momentum purposes you should use track eta (eleEta)\n",
    "    ele_vec.SetPtEtaPhiE(chain_in[sample].elePt[iEle], chain_in[sample].eleEta[iEle],\n",
    "                         chain_in[sample].elePhi[iEle], chain_in[sample].eleEn[iEle])\n",
    "\n",
    "    for mc in range(chain_in[sample].nMC):\n",
    "        if abs(chain_in[sample].mcPID[mc]) != 11 or chain_in[sample].mcPt[mc] < 15. or chain_in[sample].mcStatus[mc]!=1:\n",
    "            continue\n",
    "        mc_vec = ROOT.TLorentzVector()\n",
    "        mc_vec.SetPtEtaPhiE(chain_in[sample].mcPt[mc], chain_in[sample].mcEta[mc], chain_in[sample].mcPhi[mc], chain_in[sample].mcE[mc])\n",
    "        delta_r = ele_vec.DeltaR(mc_vec)\n",
    "        if delta_r < 0.05:\n",
    "            return True\n",
    "    return False\n",
    "\n",
    "# return the class for the electron ['eleMC', 'eleFake' ] for MC [ 'eleData' ] in Data\n",
    "def eType(iEle,isMC): \n",
    "    if (isMC):\n",
    "        if (has_mcEle_match(iEle)):\n",
    "            return \"eleMC\"\n",
    "        else:\n",
    "            return \"eleFake\"\n",
    "    else:\n",
    "        return \"eleData\"\n",
    "\n",
    "sw = ROOT.TStopwatch()\n",
    "\n",
    "\n",
    "#return tighest level of cutBased eleID passed by the electron manipulating eleIDbit from ntuple\n",
    "def eleID(eleIDbit):\n",
    "    #bit 0 cutBasedElectronID-Fall17-94X-V1-veto \n",
    "    #bit 1 cutBasedElectronID-Fall17-94X-V1-loose \n",
    "    #bit 2 cutBasedElectronID-Fall17-94X-V1-medium \n",
    "    #bit 3 cutBasedElectronID-Fall17-94X-V1-tight \n",
    "    for i in range(3,-1,-1):\n",
    "        if (eleIDbit>>i&1): #checks the i-th bit of the eleID bit starting from the MSB\n",
    "            return i+1\n",
    "    return 0\n",
    "        "
   ]
  },
  {
   "cell_type": "code",
   "execution_count": 83,
   "metadata": {
    "collapsed": false
   },
   "outputs": [
    {
     "name": "stdout",
     "output_type": "stream",
     "text": [
      "Sample dy events: 100000\n",
      "Sample tt events: 100000\n",
      "Sample doubleEG events: 100000\n"
     ]
    }
   ],
   "source": [
    "#Samples definition\n",
    "max_entries = 10000\n",
    "\n",
    "samples = ['dy','tt','doubleEG']\n",
    "inputs ={}\n",
    "inputs['doubleEG']=  { 'file':'/gpfs/ddn/cms/user/cmsdas/2019/EgammaExercise/CMSSW_9410/DoubleEG.root','isMC':False}\n",
    "inputs['dy']=  { 'file':'/gpfs/ddn/cms/user/cmsdas/2019/EgammaExercise/CMSSW_9410/DY.root','isMC':True}\n",
    "inputs['tt']=  { 'file':'/gpfs/ddn/cms/user/cmsdas/2019/EgammaExercise/CMSSW_9410/TTJets.root','isMC':True}\n",
    "\n",
    "# Input ggNtuple\n",
    "chain_in[sample] = {}\n",
    "n_entries = {}\n",
    "for sample in samples:\n",
    "    chain_in[sample] = ROOT.TChain('ggNtuplizer/EventTree')\n",
    "    chain_in[sample].Add(inputs[sample]['file'])\n",
    "\n",
    "    # This speeds up processing by only reading the branches (quantities) that we plan to use later\n",
    "    branches = [\"nEle\", \"elePt\", \"eleEta\", \"elePhi\", \"eleEn\", \"eledPhiAtVtx\", \"eleHoverE\", \"eleEoverPInv\", \"eleConvVeto\", \"eleSigmaIEtaIEtaFull5x5\",\n",
    "            \"eleSCEta\", \"eleSCPhi\", \"eleSCRawEn\", \"eleIDbit\",\"eleIDMVAIso\" ]\n",
    "    if ( inputs[sample]['isMC'] ):\n",
    "        branches.extend( [ \"nMC\", \"mcPt\", \"mcEta\", \"mcPhi\", \"mcE\", \"mcPID\",\"mcStatus\"] )\n",
    "\n",
    "    chain_in[sample].SetBranchStatus(\"*\", 0)\n",
    "    for b in branches:\n",
    "        chain_in[sample].SetBranchStatus(b, 1)\n",
    "\n",
    "    n_entries[sample] = chain_in[sample].GetEntries()\n",
    "    print 'Sample '+sample+' events: '+ str(n_entries[sample])"
   ]
  },
  {
   "cell_type": "code",
   "execution_count": 84,
   "metadata": {
    "collapsed": false
   },
   "outputs": [],
   "source": [
    "#Book the necessary histograms\n",
    "histos = {}\n",
    "\n",
    "for sample in samples:\n",
    "\n",
    "    eleTypes = []\n",
    "    if (inputs[sample]['isMC']):\n",
    "        eleTypes.extend(['eleMC' , 'eleFake'])\n",
    "    else:\n",
    "        eleTypes.extend(['eleData'])\n",
    "\n",
    "\n",
    "    for eleType in eleTypes:\n",
    "        for det in ['EB','EE']:\n",
    "            histos[sample+'_'+eleType+'_'+det+'_pt']            = ROOT.TH1F(sample+'_'+eleType+'_'+det+'_pt', 'Electron p_{T}', 190, 10.0, 200.0)\n",
    "            histos[sample+'_'+eleType+'_'+det+'_eta']           = ROOT.TH1F(sample+'_'+eleType+'_'+det+'_eta', 'Electron #eta', 50, 0., 2.5)\n",
    "            histos[sample+'_'+eleType+'_'+det+'_phi']           = ROOT.TH1F(sample+'_'+eleType+'_'+det+'_phi', 'Electron #phi', 100, -M.pi, M.pi)\n",
    "            histos[sample+'_'+eleType+'_'+det+'_sigmaIEtaIEta'] = ROOT.TH1F(sample+'_'+eleType+'_'+det+'_sigmaIEtaIEta', 'Electron #sigma_{i#eta i#eta}', 100, 0.0, 0.1)\n",
    "            histos[sample+'_'+eleType+'_'+det+'_eleID']         = ROOT.TH1F(sample+'_'+eleType+'_'+det+'_eleID', 'Electron ID (cut based)', 10, -0.5, 9.5)\n",
    "            histos[sample+'_'+eleType+'_'+det+'_eleIDMVA']      = ROOT.TH1F(sample+'_'+eleType+'_'+det+'_eleIDMVA', 'Electron ID (MVA)', 100, -1., 1.)\n",
    "            histos[sample+'_'+eleType+'_'+det+'_pt'+'_eleID']   = ROOT.TH1F(sample+'_'+eleType+'_'+det+'_pt'+'_eleID', 'Electron p_{T}', 190, 10.0, 200.0)\n",
    "            histos[sample+'_'+eleType+'_'+det+'_eta'+'_eleID']  = ROOT.TH1F(sample+'_'+eleType+'_'+det+'_eta'+'_eleID', 'Electron #eta', 50, 0., 2.5)\n",
    "            histos[sample+'_'+eleType+'_'+det+'_phi'+'_eleID']  = ROOT.TH1F(sample+'_'+eleType+'_'+det+'_phi'+'_eleID', 'Electron #phi', 100, -M.pi, M.pi)"
   ]
  },
  {
   "cell_type": "code",
   "execution_count": 85,
   "metadata": {
    "collapsed": false
   },
   "outputs": [
    {
     "name": "stdout",
     "output_type": "stream",
     "text": [
      ">>> Processing dy\n",
      "Processing entry 0\n",
      "Processing entry 1000\n",
      "Processing entry 2000\n",
      "Processing entry 3000\n",
      "Processing entry 4000\n",
      "Processing entry 5000\n",
      "Processing entry 6000\n",
      "Processing entry 7000\n",
      "Processing entry 8000\n",
      "Processing entry 9000\n",
      ">>> Processing tt\n",
      "Processing entry 0\n",
      "Processing entry 1000\n",
      "Processing entry 2000\n",
      "Processing entry 3000\n",
      "Processing entry 4000\n",
      "Processing entry 5000\n",
      "Processing entry 6000\n",
      "Processing entry 7000\n",
      "Processing entry 8000\n",
      "Processing entry 9000\n",
      ">>> Processing doubleEG\n",
      "Processing entry 0\n",
      "Processing entry 1000\n",
      "Processing entry 2000\n",
      "Processing entry 3000\n",
      "Processing entry 4000\n",
      "Processing entry 5000\n",
      "Processing entry 6000\n",
      "Processing entry 7000\n",
      "Processing entry 8000\n",
      "Processing entry 9000\n",
      "+++++++++++++++++++++++++++++++++++++++++++\n",
      "Real time: 0.242215283712 minutes\n",
      "CPU time:  0.281666666667 minutes\n",
      "+++++++++++++++++++++++++++++++++++++++++++\n"
     ]
    }
   ],
   "source": [
    "#Loop over all the events in the input ntuples\n",
    "\n",
    "#start the clock\n",
    "sw.Start()\n",
    "\n",
    "for sample in samples:\n",
    "    print \">>> Processing \"+sample\n",
    "    \n",
    "    for j_entry in range(min(max_entries,n_entries[sample]) if max_entries>0 else n_entries[sample]):\n",
    "        i_entry = chain_in[sample].LoadTree(j_entry)\n",
    "        if i_entry < 0:\n",
    "            break\n",
    "        nb = chain_in[sample].GetEntry(j_entry)\n",
    "        if nb <= 0:\n",
    "            continue\n",
    "\n",
    "        if j_entry % 1000 == 0:\n",
    "            print 'Processing entry ' + str(j_entry)\n",
    "\n",
    "        # Loop over all the electrons in an event\n",
    "        for i in range(chain_in[sample].nEle):\n",
    "            if (chain_in[sample].elePt[i] < 20. ):\n",
    "                continue\n",
    "            ele_det=eleDet(i)\n",
    "            ele_type=eType(i,inputs[sample]['isMC']) \n",
    "\n",
    "            #fill reconstructed electron kinematics\n",
    "            if (not ele_det == 'OA'):\n",
    "                histos[sample+'_'+ele_type+'_'+ele_det+'_pt'].Fill(chain_in[sample].elePt[i])\n",
    "                histos[sample+'_'+ele_type+'_'+ele_det+'_eta'].Fill(chain_in[sample].eleSCEta[i]) #use SCEta for efficiency studies\n",
    "                histos[sample+'_'+ele_type+'_'+ele_det+'_phi'].Fill(chain_in[sample].elePhi[i])\n",
    "\n",
    "            if ( #apply a simple and very loose preselection \n",
    "                ( \n",
    "                    (ele_det=='EB' #EB very loose preselection\n",
    "                     and abs(chain_in[sample].eledPhiAtVtx[i]) < 0.2\n",
    "                     and chain_in[sample].eleHoverE[i] < 0.1\n",
    "                     and abs(chain_in[sample].eleEoverPInv[i]) < 0.3\n",
    "                     and chain_in[sample].eleConvVeto[i] == 1 \n",
    "                     )\n",
    "                    or\n",
    "                    (ele_det=='EE' #EE very loose preselection\n",
    "                     and abs(chain_in[sample].eledPhiAtVtx[i]) < 0.25\n",
    "                     and chain_in[sample].eleHoverE[i] < 0.15\n",
    "                     and abs(chain_in[sample].eleEoverPInv[i]) < 0.2\n",
    "                     and chain_in[sample].eleConvVeto[i] == 1 \n",
    "                     )\n",
    "                    )\n",
    "                ):\n",
    "                histos[sample+'_'+ele_type+'_'+ele_det+'_sigmaIEtaIEta'].Fill(chain_in[sample].eleSigmaIEtaIEtaFull5x5[i])\n",
    "                histos[sample+'_'+ele_type+'_'+ele_det+'_eleID'].Fill(eleID(chain_in[sample].eleIDbit[i])) \n",
    "                histos[sample+'_'+ele_type+'_'+ele_det+'_eleIDMVA'].Fill(chain_in[sample].eleIDMVAIso[i]) \n",
    "\n",
    "                #store kinematic for efficiency plots \n",
    "                if (eleID(chain_in[sample].eleIDbit[i])>1): # pass cutBasedElectronID-Fall17-94X-V1-loose\n",
    "                    histos[sample+'_'+ele_type+'_'+ele_det+'_pt'+'_eleID'].Fill(chain_in[sample].elePt[i])\n",
    "                    histos[sample+'_'+ele_type+'_'+ele_det+'_eta'+'_eleID'].Fill(chain_in[sample].eleSCEta[i])\n",
    "                    histos[sample+'_'+ele_type+'_'+ele_det+'_phi'+'_eleID'].Fill(chain_in[sample].elePhi[i])\n",
    "\n",
    "\n",
    "#stop the clock\n",
    "sw.Stop()\n",
    "\n",
    "print '+++++++++++++++++++++++++++++++++++++++++++'\n",
    "print 'Real time: ' + str(sw.RealTime() / 60.0) + ' minutes'\n",
    "print 'CPU time:  ' + str(sw.CpuTime() / 60.0) + ' minutes'\n",
    "print '+++++++++++++++++++++++++++++++++++++++++++'"
   ]
  },
  {
   "cell_type": "code",
   "execution_count": 86,
   "metadata": {
    "collapsed": false
   },
   "outputs": [],
   "source": [
    "#Configuration for plots \n",
    "\n",
    "output='plots'\n",
    "title='CMSDAS2019 e/#gamma'\n",
    "\n",
    "if not os.path.exists(output): \n",
    "    print('>>> Creating dir: '+output)\n",
    "    os.makedirs(output) \n",
    "\n",
    "def saveCanvas(c,n):\n",
    "    defaultTitle(0.1,0.91,title)\n",
    "    for ext in ['.png','.pdf','.root' ]:\n",
    "        c.SaveAs(output+\"/\"+n+ext)\n",
    "\n",
    "def defaultTitle(x,y,text):\n",
    "    t=ROOT.TLatex()\n",
    "    t.SetTextSize(0.035)\n",
    "    t.DrawLatexNDC(x,y,text)\n",
    "    \n"
   ]
  },
  {
   "cell_type": "code",
   "execution_count": 87,
   "metadata": {
    "collapsed": false
   },
   "outputs": [
    {
     "name": "stderr",
     "output_type": "stream",
     "text": [
      "Warning in <TCanvas::Constructor>: Deleting canvas with same name: c_roc\n",
      "Info in <TCanvas::Print>: png file plots/roc_EB_sigmaIEtaIEta.png has been created\n",
      "Info in <TCanvas::Print>: pdf file plots/roc_EB_sigmaIEtaIEta.pdf has been created\n",
      "Info in <TCanvas::SaveAs>: ROOT file plots/roc_EB_sigmaIEtaIEta.root has been created\n",
      "Info in <TCanvas::Print>: png file plots/roc_EE_sigmaIEtaIEta.png has been created\n",
      "Info in <TCanvas::Print>: pdf file plots/roc_EE_sigmaIEtaIEta.pdf has been created\n",
      "Info in <TCanvas::SaveAs>: ROOT file plots/roc_EE_sigmaIEtaIEta.root has been created\n"
     ]
    },
    {
     "data": {
      "image/png": "[encoded data removed]",
      "text/plain": [
       "<IPython.core.display.Image object>"
      ]
     },
     "metadata": {},
     "output_type": "display_data"
    }
   ],
   "source": [
    "# produce the ROC curves\n",
    "\n",
    "# vars for which you want the ROCs\n",
    "vars =  [ 'sigmaIEtaIEta' ]\n",
    "\n",
    "c_roc = ROOT.TCanvas('c_roc', '', 580, 620)\n",
    "c_roc.SetGrid()\n",
    "c_roc.Draw()\n",
    "\n",
    "\n",
    "h_sig={}\n",
    "h_bkg={}\n",
    "g_roc={}\n",
    "\n",
    "\n",
    "for var_name in vars:\n",
    "    for det in ['EB','EE']: #rocs done separately for EB & EE\n",
    "        h_sig[det + '_' + var_name] = histos['dy_eleMC_'   + det + '_' +var_name] # use DY for signal\n",
    "        h_bkg[det + '_' + var_name] = histos['tt_eleFake_' + det + '_' +var_name] # use TTJets for bkg\n",
    "        g_roc[det + '_' + var_name] = ROOT.TGraph()\n",
    "        for i in range(h_sig[det + '_' + var_name].GetNbinsX()): #assumes here a cut var>cut\n",
    "            eff_sig = h_sig[det + '_' + var_name].Integral(1, i + 1) / h_sig[det + '_' + var_name].Integral()\n",
    "            eff_bkg = h_bkg[det + '_' + var_name].Integral(1, i + 1) / h_bkg[det + '_' + var_name].Integral()\n",
    "            g_roc[det + '_' + var_name].SetPoint(i, 1.0 - eff_bkg, eff_sig)\n",
    "        g_roc[det + '_' + var_name].GetXaxis().SetRangeUser(0.0, 1.1)\n",
    "        g_roc[det + '_' + var_name].GetYaxis().SetRangeUser(0.0, 1.1)\n",
    "        g_roc[det + '_' + var_name].GetXaxis().SetTitle('Bkg rej')\n",
    "        g_roc[det + '_' + var_name].GetYaxis().SetTitle('Sig eff')\n",
    "        g_roc[det + '_' + var_name].SetLineWidth(2)\n",
    "        g_roc[det + '_' + var_name].SetMarkerStyle(24)\n",
    "        g_roc[det + '_' + var_name].SetTitle(var_name + ' ROC')\n",
    "        g_roc[det + '_' + var_name].Draw('APC')\n",
    "        saveCanvas(c_roc,'roc_' + det + '_' + var_name)\n",
    "        c_roc.Update()"
   ]
  },
  {
   "cell_type": "code",
   "execution_count": 88,
   "metadata": {
    "collapsed": false
   },
   "outputs": [
    {
     "name": "stderr",
     "output_type": "stream",
     "text": [
      "Warning in <TCanvas::Constructor>: Deleting canvas with same name: c_eff\n",
      "Warning in <TGraphAsymmErrors::Divide>: Number of graph points is different than histogram bins - 82 points have been skipped\n",
      "Info in <TCanvas::Print>: png file plots/eff_EB_pt_eleID.png has been created\n",
      "Info in <TCanvas::Print>: pdf file plots/eff_EB_pt_eleID.pdf has been created\n",
      "Info in <TCanvas::SaveAs>: ROOT file plots/eff_EB_pt_eleID.root has been created\n",
      "Warning in <TGraphAsymmErrors::Divide>: Number of graph points is different than histogram bins - 94 points have been skipped\n",
      "Info in <TCanvas::Print>: png file plots/eff_EE_pt_eleID.png has been created\n",
      "Info in <TCanvas::Print>: pdf file plots/eff_EE_pt_eleID.pdf has been created\n",
      "Info in <TCanvas::SaveAs>: ROOT file plots/eff_EE_pt_eleID.root has been created\n"
     ]
    },
    {
     "data": {
      "image/png": "[encoded data removed]",
      "text/plain": [
       "<IPython.core.display.Image object>"
      ]
     },
     "metadata": {},
     "output_type": "display_data"
    }
   ],
   "source": [
    "#different selections for which you want to compute efficiency\n",
    "sel =  [ 'eleID' ] \n",
    "\n",
    "c_eff = ROOT.TCanvas('c_eff', '', 580, 620)\n",
    "c_eff.SetGrid()\n",
    "c_eff.Draw()\n",
    "\n",
    "g_eff={}\n",
    "\n",
    "ranges={}\n",
    "ranges['pt']=[ 20, 70. ]\n",
    "ranges['eta']=[ 0. , 3. ]\n",
    "ranges['phi']=[ -M.pi , M.pi ]\n",
    "\n",
    "axisT={}\n",
    "axisT['pt']= 'p_{T} [GeV]' \n",
    "axisT['eta']= '#eta' \n",
    "axisT['phi']= '#phi' \n",
    "\n",
    "for var_name in sel:\n",
    "    for det in ['EB','EE']:\n",
    "        for t in [ 'pt' ]:\n",
    "            #doing the ratios of the histograms to get the efficiency (e.g. PASS='h_eleMC_EB_pt_eleID',TOTAL='h_eleMC_EB_pt')\n",
    "            g_eff[det+'_'+t+'_'+var_name] = ROOT.TGraphAsymmErrors( histos['dy_eleMC_'+det+'_'+t+'_'+var_name], histos['dy_eleMC_'+det+'_'+t])\n",
    "            g_eff[det+'_'+t+'_'+var_name].GetXaxis().SetRangeUser(ranges[t][0],ranges[t][1])\n",
    "            g_eff[det+'_'+t+'_'+var_name].GetYaxis().SetRangeUser(0.,1.2)\n",
    "            g_eff[det+'_'+t+'_'+var_name].GetXaxis().SetTitle(axisT[t])\n",
    "            g_eff[det+'_'+t+'_'+var_name].GetYaxis().SetTitle('Efficiency')\n",
    "            g_eff[det+'_'+t+'_'+var_name].SetLineWidth(2)\n",
    "            g_eff[det+'_'+t+'_'+var_name].SetMarkerStyle(24)\n",
    "            g_eff[det+'_'+t+'_'+var_name].SetTitle( 'Eff vs '+ t + ' ('+det+')' )\n",
    "            g_eff[det+'_'+t+'_'+var_name].Draw('AP')\n",
    "            saveCanvas(c_eff,'eff_' + det + '_' + t + '_' + var_name)\n",
    "            c_eff.Update()"
   ]
  },
  {
   "cell_type": "code",
   "execution_count": null,
   "metadata": {
    "collapsed": true
   },
   "outputs": [],
   "source": []
  }
 ],
 "metadata": {
  "kernelspec": {
   "display_name": "Python 2",
   "language": "python",
   "name": "python2"
  },
  "language_info": {
   "codemirror_mode": {
    "name": "ipython",
    "version": 2
   },
   "file_extension": ".py",
   "mimetype": "text/x-python",
   "name": "python",
   "nbconvert_exporter": "python",
   "pygments_lexer": "ipython2",
   "version": "2.7.11"
  }
 },
 "nbformat": 4,
 "nbformat_minor": 2
}
